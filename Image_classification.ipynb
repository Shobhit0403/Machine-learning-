{
  "nbformat": 4,
  "nbformat_minor": 0,
  "metadata": {
    "colab": {
      "name": "Image_classification.ipynb",
      "provenance": [],
      "collapsed_sections": [],
      "authorship_tag": "ABX9TyNqAt2Ff126lLLqYAtmiB3U",
      "include_colab_link": true
    },
    "kernelspec": {
      "name": "python3",
      "display_name": "Python 3"
    },
    "accelerator": "GPU"
  },
  "cells": [
    {
      "cell_type": "markdown",
      "metadata": {
        "id": "view-in-github",
        "colab_type": "text"
      },
      "source": [
        "<a href=\"https://colab.research.google.com/github/Shobhit0403/Machine-learning-/blob/main/Image_classification.ipynb\" target=\"_parent\"><img src=\"https://colab.research.google.com/assets/colab-badge.svg\" alt=\"Open In Colab\"/></a>"
      ]
    },
    {
      "cell_type": "code",
      "metadata": {
        "id": "8YoaLUSjKsAr"
      },
      "source": [
        "fashion_mnist = keras.datasets.fashion_mnist"
      ],
      "execution_count": 2,
      "outputs": []
    },
    {
      "cell_type": "code",
      "metadata": {
        "id": "_PaAm3P1K0ym"
      },
      "source": [
        "import keras \r\n"
      ],
      "execution_count": 3,
      "outputs": []
    },
    {
      "cell_type": "code",
      "metadata": {
        "colab": {
          "base_uri": "https://localhost:8080/"
        },
        "id": "NM_7XNMMK2dT",
        "outputId": "258111b8-90de-4d66-8155-03f1cd96f053"
      },
      "source": [
        "(X_train,y_train), (X_test, y_test) = fashion_mnist.load_data()\r\n",
        "print(X_train.shape)"
      ],
      "execution_count": 4,
      "outputs": [
        {
          "output_type": "stream",
          "text": [
            "Downloading data from https://storage.googleapis.com/tensorflow/tf-keras-datasets/train-labels-idx1-ubyte.gz\n",
            "32768/29515 [=================================] - 0s 0us/step\n",
            "Downloading data from https://storage.googleapis.com/tensorflow/tf-keras-datasets/train-images-idx3-ubyte.gz\n",
            "26427392/26421880 [==============================] - 0s 0us/step\n",
            "Downloading data from https://storage.googleapis.com/tensorflow/tf-keras-datasets/t10k-labels-idx1-ubyte.gz\n",
            "8192/5148 [===============================================] - 0s 0us/step\n",
            "Downloading data from https://storage.googleapis.com/tensorflow/tf-keras-datasets/t10k-images-idx3-ubyte.gz\n",
            "4423680/4422102 [==============================] - 0s 0us/step\n",
            "(60000, 28, 28)\n"
          ],
          "name": "stdout"
        }
      ]
    },
    {
      "cell_type": "code",
      "metadata": {
        "colab": {
          "base_uri": "https://localhost:8080/"
        },
        "id": "oGC1nfI2LRaN",
        "outputId": "07f2c47b-84d8-440b-a851-47007a6fff5b"
      },
      "source": [
        "import numpy as np\r\n",
        "len(np.unique(y_train)) \r\n",
        "# len(set(y_train)) "
      ],
      "execution_count": 5,
      "outputs": [
        {
          "output_type": "execute_result",
          "data": {
            "text/plain": [
              "10"
            ]
          },
          "metadata": {
            "tags": []
          },
          "execution_count": 5
        }
      ]
    },
    {
      "cell_type": "markdown",
      "metadata": {
        "id": "7k8xGT-_NfTV"
      },
      "source": [
        "## there is no validation set, ...Scaling"
      ]
    },
    {
      "cell_type": "code",
      "metadata": {
        "colab": {
          "base_uri": "https://localhost:8080/"
        },
        "id": "Mrj28L4gLx2o",
        "outputId": "f4036d2b-4487-42aa-cb69-e397a2a70aa8"
      },
      "source": [
        "X_valid, X_train = X_train[:5000]/255.0 , X_train[5000:]/255.0\r\n",
        "y_valid, y_train = y_train[:5000] , y_train[5000:]\r\n",
        "print(X_train.shape, X_valid.shape)"
      ],
      "execution_count": 6,
      "outputs": [
        {
          "output_type": "stream",
          "text": [
            "(55000, 28, 28) (5000, 28, 28)\n"
          ],
          "name": "stdout"
        }
      ]
    },
    {
      "cell_type": "code",
      "metadata": {
        "id": "Vd1_vc85NZl4"
      },
      "source": [
        "class_name = [\"Top\", \"trouset\" , \"pullover\", \"Dress\", \"Coat\", \"sandal\", \"Shirt\", \"Sneaker\", \"Bag\", \"Ankle boot\"]"
      ],
      "execution_count": 7,
      "outputs": []
    },
    {
      "cell_type": "markdown",
      "metadata": {
        "id": "E00l9EL-O7Xh"
      },
      "source": [
        "## Model"
      ]
    },
    {
      "cell_type": "code",
      "metadata": {
        "id": "LPlJptiZOZ-s"
      },
      "source": [
        "model = keras.models.Sequential()\r\n",
        "model.add(keras.layers.Flatten(input_shape=[28,28])) #role is tol convert i/p omg to 1D arry, computes X.reshape(-1,1)\r\n",
        "model.add(keras.layers.Dense(300,activation= \"relu\")) #300 neurons, manages 1. its own weights 2. containing all the connections b/w neurons and i/p's 3. vecotr of bias term\r\n",
        "model.add(keras.layers.Dense(100,activation= \"relu\")) \r\n",
        "model.add(keras.layers.Dense(10,activation= \"softmax\"))"
      ],
      "execution_count": 8,
      "outputs": []
    },
    {
      "cell_type": "code",
      "metadata": {
        "id": "_3o2_YUEUstu",
        "colab": {
          "base_uri": "https://localhost:8080/",
          "height": 69
        },
        "outputId": "6310f993-798d-46d1-80e9-676d15ed93fb"
      },
      "source": [
        "\"\"\"\r\n",
        "model = keras.models.Sequential([\r\n",
        "  model.add(keras.layers.Flatten(input_shape=[28,28])) #role is tol convert i/p omg to 1D arry, computes X.reshape(-1,1)\r\n",
        "  model.add(keras.layers.Dense(300,activation= \"relu\")) #300 neurons, manages 1. its own weights 2. containing all the connections b/w neurons and i/p's 3. vecotr of bias term\r\n",
        "  model.add(keras.layers.Dense(100,activation= \"relu\")) \r\n",
        "  model.add(keras.layers.Dense(10,activation= \"relu\"))\r\n",
        "])\r\n",
        "\r\n",
        "\"\"\""
      ],
      "execution_count": 9,
      "outputs": [
        {
          "output_type": "execute_result",
          "data": {
            "application/vnd.google.colaboratory.intrinsic+json": {
              "type": "string"
            },
            "text/plain": [
              "'\\nmodel = keras.models.Sequential([\\n  model.add(keras.layers.Flatten(input_shape=[28,28])) #role is tol convert i/p omg to 1D arry, computes X.reshape(-1,1)\\n  model.add(keras.layers.Dense(300,activation= \"relu\")) #300 neurons, manages 1. its own weights 2. containing all the connections b/w neurons and i/p\\'s 3. vecotr of bias term\\n  model.add(keras.layers.Dense(100,activation= \"relu\")) \\n  model.add(keras.layers.Dense(10,activation= \"relu\"))\\n])\\n\\n'"
            ]
          },
          "metadata": {
            "tags": []
          },
          "execution_count": 9
        }
      ]
    },
    {
      "cell_type": "code",
      "metadata": {
        "colab": {
          "base_uri": "https://localhost:8080/"
        },
        "id": "Tr0ZFUzhWcla",
        "outputId": "db5f76de-1c46-4296-a611-2b3a0f4b2dc1"
      },
      "source": [
        "model.summary()"
      ],
      "execution_count": 10,
      "outputs": [
        {
          "output_type": "stream",
          "text": [
            "Model: \"sequential\"\n",
            "_________________________________________________________________\n",
            "Layer (type)                 Output Shape              Param #   \n",
            "=================================================================\n",
            "flatten (Flatten)            (None, 784)               0         \n",
            "_________________________________________________________________\n",
            "dense (Dense)                (None, 300)               235500    \n",
            "_________________________________________________________________\n",
            "dense_1 (Dense)              (None, 100)               30100     \n",
            "_________________________________________________________________\n",
            "dense_2 (Dense)              (None, 10)                1010      \n",
            "=================================================================\n",
            "Total params: 266,610\n",
            "Trainable params: 266,610\n",
            "Non-trainable params: 0\n",
            "_________________________________________________________________\n"
          ],
          "name": "stdout"
        }
      ]
    },
    {
      "cell_type": "code",
      "metadata": {
        "id": "IgDHdqUAWlBE"
      },
      "source": [
        "# initilaizaiton of the weights, can be random KERNEL_INITIALIZER OR BIAS_INITIALIZER "
      ],
      "execution_count": 11,
      "outputs": []
    },
    {
      "cell_type": "code",
      "metadata": {
        "colab": {
          "base_uri": "https://localhost:8080/"
        },
        "id": "cVcMHnsL161g",
        "outputId": "7bfcfb07-c78c-4d84-8ec6-5c8933b9ab79"
      },
      "source": [
        "model.compile(loss=\"sparse_categorical_crossentropy\",optimizer = \"sgd\", metrics=[\"accuracy\"]) #  method to specifu the loss function and the optimizer to use\r\n",
        "y_train.shape"
      ],
      "execution_count": 12,
      "outputs": [
        {
          "output_type": "execute_result",
          "data": {
            "text/plain": [
              "(55000,)"
            ]
          },
          "metadata": {
            "tags": []
          },
          "execution_count": 12
        }
      ]
    },
    {
      "cell_type": "code",
      "metadata": {
        "colab": {
          "base_uri": "https://localhost:8080/"
        },
        "id": "whOIY93L2pXj",
        "outputId": "0dd11f09-a4b0-4d75-c705-de73ae78b23e"
      },
      "source": [
        "history = model.fit(X_train, y_train, epochs=30,validation_data=(X_valid,y_valid), batch_size=None)"
      ],
      "execution_count": 13,
      "outputs": [
        {
          "output_type": "stream",
          "text": [
            "Epoch 1/30\n",
            "1719/1719 [==============================] - 6s 2ms/step - loss: 1.0077 - accuracy: 0.6799 - val_loss: 0.5466 - val_accuracy: 0.7992\n",
            "Epoch 2/30\n",
            "1719/1719 [==============================] - 3s 2ms/step - loss: 0.4977 - accuracy: 0.8271 - val_loss: 0.4493 - val_accuracy: 0.8476\n",
            "Epoch 3/30\n",
            "1719/1719 [==============================] - 3s 2ms/step - loss: 0.4431 - accuracy: 0.8441 - val_loss: 0.4323 - val_accuracy: 0.8502\n",
            "Epoch 4/30\n",
            "1719/1719 [==============================] - 3s 2ms/step - loss: 0.4147 - accuracy: 0.8541 - val_loss: 0.3875 - val_accuracy: 0.8702\n",
            "Epoch 5/30\n",
            "1719/1719 [==============================] - 3s 2ms/step - loss: 0.3916 - accuracy: 0.8615 - val_loss: 0.3727 - val_accuracy: 0.8712\n",
            "Epoch 6/30\n",
            "1719/1719 [==============================] - 3s 2ms/step - loss: 0.3806 - accuracy: 0.8662 - val_loss: 0.3665 - val_accuracy: 0.8710\n",
            "Epoch 7/30\n",
            "1719/1719 [==============================] - 3s 2ms/step - loss: 0.3621 - accuracy: 0.8724 - val_loss: 0.3631 - val_accuracy: 0.8738\n",
            "Epoch 8/30\n",
            "1719/1719 [==============================] - 3s 2ms/step - loss: 0.3502 - accuracy: 0.8755 - val_loss: 0.3510 - val_accuracy: 0.8776\n",
            "Epoch 9/30\n",
            "1719/1719 [==============================] - 3s 2ms/step - loss: 0.3462 - accuracy: 0.8789 - val_loss: 0.3492 - val_accuracy: 0.8758\n",
            "Epoch 10/30\n",
            "1719/1719 [==============================] - 3s 2ms/step - loss: 0.3369 - accuracy: 0.8834 - val_loss: 0.3348 - val_accuracy: 0.8796\n",
            "Epoch 11/30\n",
            "1719/1719 [==============================] - 3s 2ms/step - loss: 0.3207 - accuracy: 0.8856 - val_loss: 0.3468 - val_accuracy: 0.8784\n",
            "Epoch 12/30\n",
            "1719/1719 [==============================] - 3s 2ms/step - loss: 0.3148 - accuracy: 0.8866 - val_loss: 0.3347 - val_accuracy: 0.8824\n",
            "Epoch 13/30\n",
            "1719/1719 [==============================] - 3s 2ms/step - loss: 0.3074 - accuracy: 0.8914 - val_loss: 0.3278 - val_accuracy: 0.8836\n",
            "Epoch 14/30\n",
            "1719/1719 [==============================] - 3s 2ms/step - loss: 0.3031 - accuracy: 0.8927 - val_loss: 0.3250 - val_accuracy: 0.8848\n",
            "Epoch 15/30\n",
            "1719/1719 [==============================] - 3s 2ms/step - loss: 0.2924 - accuracy: 0.8950 - val_loss: 0.3173 - val_accuracy: 0.8836\n",
            "Epoch 16/30\n",
            "1719/1719 [==============================] - 3s 2ms/step - loss: 0.2876 - accuracy: 0.8951 - val_loss: 0.3166 - val_accuracy: 0.8868\n",
            "Epoch 17/30\n",
            "1719/1719 [==============================] - 3s 2ms/step - loss: 0.2811 - accuracy: 0.8993 - val_loss: 0.3217 - val_accuracy: 0.8860\n",
            "Epoch 18/30\n",
            "1719/1719 [==============================] - 3s 2ms/step - loss: 0.2719 - accuracy: 0.8999 - val_loss: 0.3070 - val_accuracy: 0.8884\n",
            "Epoch 19/30\n",
            "1719/1719 [==============================] - 3s 2ms/step - loss: 0.2728 - accuracy: 0.9026 - val_loss: 0.3151 - val_accuracy: 0.8862\n",
            "Epoch 20/30\n",
            "1719/1719 [==============================] - 3s 2ms/step - loss: 0.2668 - accuracy: 0.9036 - val_loss: 0.3526 - val_accuracy: 0.8700\n",
            "Epoch 21/30\n",
            "1719/1719 [==============================] - 3s 2ms/step - loss: 0.2595 - accuracy: 0.9082 - val_loss: 0.3082 - val_accuracy: 0.8900\n",
            "Epoch 22/30\n",
            "1719/1719 [==============================] - 3s 2ms/step - loss: 0.2582 - accuracy: 0.9079 - val_loss: 0.3068 - val_accuracy: 0.8862\n",
            "Epoch 23/30\n",
            "1719/1719 [==============================] - 3s 2ms/step - loss: 0.2536 - accuracy: 0.9083 - val_loss: 0.3237 - val_accuracy: 0.8872\n",
            "Epoch 24/30\n",
            "1719/1719 [==============================] - 3s 2ms/step - loss: 0.2486 - accuracy: 0.9094 - val_loss: 0.2983 - val_accuracy: 0.8906\n",
            "Epoch 25/30\n",
            "1719/1719 [==============================] - 4s 2ms/step - loss: 0.2439 - accuracy: 0.9134 - val_loss: 0.3089 - val_accuracy: 0.8868\n",
            "Epoch 26/30\n",
            "1719/1719 [==============================] - 4s 2ms/step - loss: 0.2415 - accuracy: 0.9143 - val_loss: 0.2913 - val_accuracy: 0.8952\n",
            "Epoch 27/30\n",
            "1719/1719 [==============================] - 4s 2ms/step - loss: 0.2381 - accuracy: 0.9155 - val_loss: 0.3003 - val_accuracy: 0.8924\n",
            "Epoch 28/30\n",
            "1719/1719 [==============================] - 3s 2ms/step - loss: 0.2301 - accuracy: 0.9184 - val_loss: 0.3056 - val_accuracy: 0.8884\n",
            "Epoch 29/30\n",
            "1719/1719 [==============================] - 3s 2ms/step - loss: 0.2327 - accuracy: 0.9165 - val_loss: 0.2918 - val_accuracy: 0.8958\n",
            "Epoch 30/30\n",
            "1719/1719 [==============================] - 3s 2ms/step - loss: 0.2245 - accuracy: 0.9196 - val_loss: 0.2960 - val_accuracy: 0.8908\n"
          ],
          "name": "stdout"
        }
      ]
    },
    {
      "cell_type": "markdown",
      "metadata": {
        "id": "KcTe9BfZtP-c"
      },
      "source": [
        "## history.params \r\n",
        "## history.epoch\r\n",
        "## history.history "
      ]
    },
    {
      "cell_type": "code",
      "metadata": {
        "colab": {
          "base_uri": "https://localhost:8080/",
          "height": 324
        },
        "id": "qa9yoaTq3Cu_",
        "outputId": "323bb336-ae73-49c4-c9f9-197e082edf38"
      },
      "source": [
        "import pandas as pd \r\n",
        "import matplotlib.pyplot as plt\r\n",
        "pd.DataFrame(history.history).plot(figsize=(8,5))\r\n",
        "plt.grid(True)\r\n",
        "plt.gca().set_ylim(0,1)\r\n",
        "plt.show()"
      ],
      "execution_count": 14,
      "outputs": [
        {
          "output_type": "display_data",
          "data": {
            "image/png": "[encoded data removed]",
            "text/plain": [
              "<Figure size 576x360 with 1 Axes>"
            ]
          },
          "metadata": {
            "tags": [],
            "needs_background": "light"
          }
        }
      ]
    },
    {
      "cell_type": "code",
      "metadata": {
        "id": "PfBchfsMJ1Gb",
        "colab": {
          "base_uri": "https://localhost:8080/"
        },
        "outputId": "14cb81cc-02c0-4e9a-f3f9-d3edfd77d1c9"
      },
      "source": [
        "model.evaluate(X_test, y_test , batch_size=1\r\n",
        "               )"
      ],
      "execution_count": 19,
      "outputs": [
        {
          "output_type": "stream",
          "text": [
            "10000/10000 [==============================] - 19s 2ms/step - loss: 66.2332 - accuracy: 0.8478\n"
          ],
          "name": "stdout"
        },
        {
          "output_type": "execute_result",
          "data": {
            "text/plain": [
              "[66.23324584960938, 0.8478000164031982]"
            ]
          },
          "metadata": {
            "tags": []
          },
          "execution_count": 19
        }
      ]
    },
    {
      "cell_type": "code",
      "metadata": {
        "colab": {
          "base_uri": "https://localhost:8080/"
        },
        "id": "JUPjFs2Qsy_q",
        "outputId": "7056ff44-dda1-40d1-9c6f-563b110d197e"
      },
      "source": [
        "y_predict =  model.predict_classes(X_test[:3])\r\n",
        "y_predict"
      ],
      "execution_count": 21,
      "outputs": [
        {
          "output_type": "stream",
          "text": [
            "/usr/local/lib/python3.6/dist-packages/tensorflow/python/keras/engine/sequential.py:450: UserWarning: `model.predict_classes()` is deprecated and will be removed after 2021-01-01. Please use instead:* `np.argmax(model.predict(x), axis=-1)`,   if your model does multi-class classification   (e.g. if it uses a `softmax` last-layer activation).* `(model.predict(x) > 0.5).astype(\"int32\")`,   if your model does binary classification   (e.g. if it uses a `sigmoid` last-layer activation).\n",
            "  warnings.warn('`model.predict_classes()` is deprecated and '\n"
          ],
          "name": "stderr"
        },
        {
          "output_type": "execute_result",
          "data": {
            "text/plain": [
              "array([9, 2, 1])"
            ]
          },
          "metadata": {
            "tags": []
          },
          "execution_count": 21
        }
      ]
    },
    {
      "cell_type": "code",
      "metadata": {
        "id": "ood90YRVEykQ"
      },
      "source": [
        ""
      ],
      "execution_count": null,
      "outputs": []
    }
  ]
}